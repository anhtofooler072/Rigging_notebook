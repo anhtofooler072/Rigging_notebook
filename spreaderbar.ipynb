{
 "cells": [
  {
   "cell_type": "code",
   "execution_count": 8,
   "id": "711399c9",
   "metadata": {},
   "outputs": [
    {
     "name": "stdout",
     "output_type": "stream",
     "text": [
      "199.2467063717742 mm (radius of gyration)\n",
      "1755418125.553821 mm4\n",
      "92018373.48 N (Critical Buckling Load)\n",
      "9383.26 tons (Critical Buckling Load)\n"
     ]
    }
   ],
   "source": [
    "import math\n",
    "\n",
    "Od = 588 # mm outer diameter\n",
    "t = 25 # mm thickness\n",
    "\n",
    "def moment_of_inertia(Od, t):\n",
    "    Outer_d = Od\n",
    "    Inner_d = Outer_d - 2 * t\n",
    "    I = (math.pi / 64) * (Outer_d**4 - Inner_d**4)\n",
    "    return I\n",
    "\n",
    "def radius_of_gyration(Od, t):\n",
    "    I = moment_of_inertia(Od, t)\n",
    "    A = (math.pi / 4) * (Od**2 - (Od - 2 * t)**2)\n",
    "    r = math.sqrt(I / A)\n",
    "    return r\n",
    "\n",
    "I = moment_of_inertia(Od, t)\n",
    "r = radius_of_gyration(Od, t)\n",
    "\n",
    "print(f\"{r} mm (radius of gyration)\")\n",
    "print(I, \"mm4\")\n",
    "\n",
    "\n",
    "E = 210000  # MPa for S355 steel\n",
    "K = 1       # Assume pinned-pinned (effective length factor)\n",
    "L = 6288    # mm\n",
    "P_critical = (math.pi ** 2 * E * I) / ((K * L) ** 2)\n",
    "P_critical_tons = P_critical / 9.80665 / 1000  # Convert N to metric tons (1 ton = 1000 kg, 1 kg = 9.80665 N)\n",
    "print(f\"{P_critical:.2f} N (Critical Buckling Load)\")\n",
    "print(f\"{P_critical_tons:.2f} tons (Critical Buckling Load)\")"
   ]
  }
 ],
 "metadata": {
  "kernelspec": {
   "display_name": "Python 3",
   "language": "python",
   "name": "python3"
  },
  "language_info": {
   "codemirror_mode": {
    "name": "ipython",
    "version": 3
   },
   "file_extension": ".py",
   "mimetype": "text/x-python",
   "name": "python",
   "nbconvert_exporter": "python",
   "pygments_lexer": "ipython3",
   "version": "3.12.1"
  }
 },
 "nbformat": 4,
 "nbformat_minor": 5
}
