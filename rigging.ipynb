{
 "cells": [
  {
   "cell_type": "markdown",
   "id": "bec852de",
   "metadata": {},
   "source": [
    "# LIFTING LOAD CALCULATION\n"
   ]
  },
  {
   "cell_type": "code",
   "execution_count": null,
   "id": "a54fd756",
   "metadata": {},
   "outputs": [
    {
     "name": "stdout",
     "output_type": "stream",
     "text": [
      "1 node:  [6288, 3585, 7000, 4000]\n",
      "load at lifting point1: 48.87 \n",
      "\n",
      "2 node:  [6288, 2703, 7000, 4000]\n",
      "load at lifting point2: 36.85 \n",
      "\n",
      "3 node:  [7000, 3000, 6288, 2703]\n",
      "load at lifting point3: 27.63 \n",
      "\n",
      "4 node:  [7000, 3000, 6288, 3585]\n",
      "load at lifting point4: 36.65 \n",
      "\n"
     ]
    }
   ],
   "source": [
    "def Load(w, dt1, odt1, dt2, odt2):\n",
    "    L = w * (dt1 / odt1) * (dt2 / odt2)\n",
    "    return L\n",
    "\n",
    "odt1 = 6288\n",
    "odt1P1 = 2703\n",
    "odt1P2 = odt1 - odt1P1\n",
    "\n",
    "odt2 = 7000\n",
    "odt2P1 = 3000\n",
    "odt2P2 = odt2 - odt2P1\n",
    "\n",
    "LiftingPoint = [[odt1,odt1P2,odt2,odt2P2], #lifting point 1\n",
    "                [odt1,odt1P1,odt2,odt2P2],\n",
    "                [odt2,odt2P1,odt1,odt1P1],\n",
    "                [odt2,odt2P1,odt1,odt1P2],\n",
    "                ]\n",
    "\n",
    "cargo_weight = 150\n",
    "\n",
    "for i, node in enumerate(LiftingPoint):\n",
    "    print(i+1, \"node: \", node)\n",
    "    nodeIndex = i + 1\n",
    "    loadatLiftingPoint = Load(cargo_weight,node[1], node[0], node[3], node[2])\n",
    "    print(f\"load at lifting point{nodeIndex}: {round(loadatLiftingPoint,2)}\", \"\\n\")\n"
   ]
  }
 ],
 "metadata": {
  "kernelspec": {
   "display_name": "Python 3",
   "language": "python",
   "name": "python3"
  },
  "language_info": {
   "codemirror_mode": {
    "name": "ipython",
    "version": 3
   },
   "file_extension": ".py",
   "mimetype": "text/x-python",
   "name": "python",
   "nbconvert_exporter": "python",
   "pygments_lexer": "ipython3",
   "version": "3.12.1"
  }
 },
 "nbformat": 4,
 "nbformat_minor": 5
}
